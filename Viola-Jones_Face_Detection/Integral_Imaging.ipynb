{
 "cells": [
  {
   "cell_type": "code",
   "execution_count": 11,
   "metadata": {},
   "outputs": [],
   "source": [
    "import numpy as np\n",
    "import cv2"
   ]
  },
  {
   "cell_type": "code",
   "execution_count": 12,
   "metadata": {},
   "outputs": [],
   "source": [
    "img = cv2.imread('sample images/messi.jpg')"
   ]
  },
  {
   "cell_type": "code",
   "execution_count": 13,
   "metadata": {},
   "outputs": [],
   "source": [
    "def viewImage(image):\n",
    "    cv2.imshow(\"view image\", image)\n",
    "    cv2.waitKey(0)\n",
    "    cv2.destroyAllWindows()"
   ]
  },
  {
   "cell_type": "code",
   "execution_count": 14,
   "metadata": {},
   "outputs": [],
   "source": [
    "gray_image = cv2.cvtColor(img, cv2.COLOR_BGR2GRAY)\n",
    "img_array = np.array(gray_image)"
   ]
  },
  {
   "cell_type": "code",
   "execution_count": 15,
   "metadata": {},
   "outputs": [
    {
     "name": "stdout",
     "output_type": "stream",
     "text": [
      "[[248 248 248 ... 244 244 244]\n",
      " [248 248 248 ... 244 244 244]\n",
      " [248 248 248 ... 244 244 244]\n",
      " ...\n",
      " [248 248 248 ... 236 235 235]\n",
      " [248 248 248 ... 236 235 235]\n",
      " [248 248 248 ... 236 235 235]]\n"
     ]
    }
   ],
   "source": [
    "print(np.array(img_array))"
   ]
  },
  {
   "cell_type": "code",
   "execution_count": 16,
   "metadata": {},
   "outputs": [],
   "source": [
    "# viewImage(img_array)"
   ]
  },
  {
   "cell_type": "code",
   "execution_count": 17,
   "metadata": {},
   "outputs": [],
   "source": [
    "# def compute_integral_image(image):\n",
    "#     # Ensure the input image is a NumPy array\n",
    "#     image = np.array(image, dtype=np.uint64)\n",
    "\n",
    "#     # Get the dimensions of the input image\n",
    "#     height, width = image.shape\n",
    "\n",
    "#     # Initialize the integral image with zeros\n",
    "#     integral_image = np.zeros((height, width), dtype=np.uint64)\n",
    "\n",
    "#     # Compute the integral image\n",
    "#     for y in range(height):\n",
    "#         for x in range(width):\n",
    "#             pixel_value = image[y, x]\n",
    "#             sum_above = integral_image[y-1, x] if y > 0 else 0\n",
    "#             sum_left = integral_image[y, x-1] if x > 0 else 0\n",
    "#             sum_above_left = integral_image[y-1, x-1] if y > 0 and x > 0 else 0\n",
    "\n",
    "#             integral_image[y, x] = pixel_value + sum_above + sum_left - sum_above_left\n",
    "\n",
    "#     return integral_image"
   ]
  },
  {
   "cell_type": "code",
   "execution_count": 18,
   "metadata": {},
   "outputs": [],
   "source": [
    "def Integral_image_finder(nums):\n",
    "#     nums1 = nums\n",
    "    nums = nums.astype(np.uint8)\n",
    "    a, b = nums.shape\n",
    "#     for i in range(a):\n",
    "#         for j in range(b):\n",
    "#             if i == 0:\n",
    "#                 nums1[i][j] += nums1[i][j-1]\n",
    "#             if j == 0:\n",
    "#                 nums1[i][j] += nums1[i-1][j]\n",
    "#             if i > 0 and j > 0:\n",
    "#                 nums1[i][j] += nums1[i-1][j] + nums1[i][j-1] - nums1[i-1][j-1]\n",
    "#     return nums1\n",
    "    integral_image = np.copy(nums)\n",
    "    for i in range(a):\n",
    "        for j in range(b):\n",
    "            if i > 0:\n",
    "                integral_image[i][j] += integral_image[i-1][j]\n",
    "            if j > 0:\n",
    "                integral_image[i][j] += integral_image[i][j-1]\n",
    "            if i > 0 and j > 0:\n",
    "                integral_image[i][j] -= integral_image[i-1][j-1]\n",
    "    return integral_image"
   ]
  },
  {
   "cell_type": "code",
   "execution_count": 19,
   "metadata": {},
   "outputs": [
    {
     "name": "stderr",
     "output_type": "stream",
     "text": [
      "C:\\Users\\tarunraghav srikanth\\AppData\\Local\\Temp\\ipykernel_12216\\4154820510.py:20: RuntimeWarning: overflow encountered in ubyte_scalars\n",
      "  integral_image[i][j] += integral_image[i][j-1]\n",
      "C:\\Users\\tarunraghav srikanth\\AppData\\Local\\Temp\\ipykernel_12216\\4154820510.py:18: RuntimeWarning: overflow encountered in ubyte_scalars\n",
      "  integral_image[i][j] += integral_image[i-1][j]\n",
      "C:\\Users\\tarunraghav srikanth\\AppData\\Local\\Temp\\ipykernel_12216\\4154820510.py:22: RuntimeWarning: overflow encountered in ubyte_scalars\n",
      "  integral_image[i][j] -= integral_image[i-1][j-1]\n"
     ]
    },
    {
     "ename": "AttributeError",
     "evalue": "module 'cv2' has no attribute 'CV_32U'",
     "output_type": "error",
     "traceback": [
      "\u001b[1;31m---------------------------------------------------------------------------\u001b[0m",
      "\u001b[1;31mAttributeError\u001b[0m                            Traceback (most recent call last)",
      "\u001b[1;32me:\\raghav\\Research papers\\Object Detection - Viola & Jones\\MyProjects\\Integral_Imaging.ipynb Cell 9\u001b[0m line \u001b[0;36m<cell line: 3>\u001b[1;34m()\u001b[0m\n\u001b[0;32m      <a href='vscode-notebook-cell:/e%3A/raghav/Research%20papers/Object%20Detection%20-%20Viola%20%26%20Jones/MyProjects/Integral_Imaging.ipynb#X11sZmlsZQ%3D%3D?line=0'>1</a>\u001b[0m img_int_array \u001b[39m=\u001b[39m Integral_image_finder(img_array)\n\u001b[0;32m      <a href='vscode-notebook-cell:/e%3A/raghav/Research%20papers/Object%20Detection%20-%20Viola%20%26%20Jones/MyProjects/Integral_Imaging.ipynb#X11sZmlsZQ%3D%3D?line=1'>2</a>\u001b[0m \u001b[39m# img_int_array2 = cv2.integral(img_array)\u001b[39;00m\n\u001b[1;32m----> <a href='vscode-notebook-cell:/e%3A/raghav/Research%20papers/Object%20Detection%20-%20Viola%20%26%20Jones/MyProjects/Integral_Imaging.ipynb#X11sZmlsZQ%3D%3D?line=2'>3</a>\u001b[0m normalized_integral \u001b[39m=\u001b[39m cv2\u001b[39m.\u001b[39mnormalize(img_int_array, \u001b[39mNone\u001b[39;00m, \u001b[39m0\u001b[39m, \u001b[39m255\u001b[39m, cv2\u001b[39m.\u001b[39mNORM_MINMAX, cv2\u001b[39m.\u001b[39;49mCV_32U)\n\u001b[0;32m      <a href='vscode-notebook-cell:/e%3A/raghav/Research%20papers/Object%20Detection%20-%20Viola%20%26%20Jones/MyProjects/Integral_Imaging.ipynb#X11sZmlsZQ%3D%3D?line=4'>5</a>\u001b[0m \u001b[39mprint\u001b[39m(img_int_array)\n",
      "\u001b[1;31mAttributeError\u001b[0m: module 'cv2' has no attribute 'CV_32U'"
     ]
    }
   ],
   "source": [
    "img_int_array = Integral_image_finder(img_array)\n",
    "# img_int_array2 = cv2.integral(img_array)\n",
    "normalized_integral = cv2.normalize(img_int_array, None, 0, 255, cv2.NORM_MINMAX, cv2.CV_8U)\n",
    "\n",
    "print(img_int_array)"
   ]
  },
  {
   "cell_type": "code",
   "execution_count": null,
   "metadata": {},
   "outputs": [],
   "source": [
    "cv2.imshow(\"View Image\", img_int_array)\n",
    "cv2.waitKey(0)\n",
    "\n",
    "# Close all OpenCV windows\n",
    "cv2.destroyAllWindows()"
   ]
  },
  {
   "cell_type": "code",
   "execution_count": null,
   "metadata": {},
   "outputs": [],
   "source": []
  }
 ],
 "metadata": {
  "kernelspec": {
   "display_name": "Python 3",
   "language": "python",
   "name": "python3"
  },
  "language_info": {
   "codemirror_mode": {
    "name": "ipython",
    "version": 3
   },
   "file_extension": ".py",
   "mimetype": "text/x-python",
   "name": "python",
   "nbconvert_exporter": "python",
   "pygments_lexer": "ipython3",
   "version": "3.10.4"
  }
 },
 "nbformat": 4,
 "nbformat_minor": 2
}
