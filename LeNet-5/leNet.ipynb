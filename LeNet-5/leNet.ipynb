{
 "cells": [
  {
   "cell_type": "code",
   "execution_count": 3,
   "metadata": {},
   "outputs": [],
   "source": [
    "import torch\n",
    "import torch.nn as nn \n",
    "import torchvision\n",
    "import torchvision.transforms as transforms"
   ]
  },
  {
   "cell_type": "code",
   "execution_count": 2,
   "metadata": {},
   "outputs": [],
   "source": [
    "batch_size=64\n",
    "num_classes=10\n",
    "learning_rate=0.001\n",
    "num_epochs=10"
   ]
  },
  {
   "cell_type": "code",
   "execution_count": 4,
   "metadata": {},
   "outputs": [],
   "source": [
    "device = torch.device('cuda' if torch.cuda.is_available() else 'cpu')"
   ]
  },
  {
   "cell_type": "code",
   "execution_count": 5,
   "metadata": {},
   "outputs": [
    {
     "name": "stderr",
     "output_type": "stream",
     "text": [
      "100%|██████████| 9.91M/9.91M [00:02<00:00, 3.77MB/s]\n",
      "100%|██████████| 28.9k/28.9k [00:00<00:00, 119kB/s]\n",
      "100%|██████████| 1.65M/1.65M [00:01<00:00, 1.07MB/s]\n",
      "100%|██████████| 4.54k/4.54k [00:00<00:00, 3.78MB/s]\n"
     ]
    }
   ],
   "source": [
    "#  loading the dataset\n",
    "\n",
    "train_dataset = torchvision.datasets.MNIST(root='./data', \n",
    "                                           train=True,\n",
    "                                           transform=transforms.Compose([\n",
    "                                               transforms.Resize((32, 32)),\n",
    "                                               transforms.ToTensor(),\n",
    "                                               transforms.Normalize(mean=(0.1307,), std=(0.3801,))\n",
    "                                           ]), download=True)\n",
    "\n",
    "test_dataset = torchvision.datasets.MNIST(root='./data', \n",
    "                                          train=False,\n",
    "                                          transform=transforms.Compose([\n",
    "                                              transforms.Resize((32, 32)),\n",
    "                                              transforms.ToTensor(),\n",
    "                                              transforms.Normalize(mean=(0.1325,), std=(0.3105,))\n",
    "                                          ]), download=True)\n",
    "\n",
    "train_loader = torch.utils.data.DataLoader(dataset=train_dataset, batch_size=batch_size, shuffle=True)\n",
    "\n",
    "test_loader = torch.utils.data.DataLoader(dataset=test_dataset, batch_size=batch_size, shuffle=True)"
   ]
  },
  {
   "cell_type": "code",
   "execution_count": 10,
   "metadata": {},
   "outputs": [],
   "source": [
    "class LeNet5(nn.Module):\n",
    "    def __init__(self, num_classes):\n",
    "        super(LeNet5, self).__init__()\n",
    "        self.layer1 = nn.Sequential(\n",
    "            nn.Conv2d(1, 6, kernel_size=5, stride=1, padding=0), \n",
    "            nn.BatchNorm2d(6),\n",
    "            nn.ReLU(),\n",
    "            nn.MaxPool2d(kernel_size=2, stride=2)\n",
    "        )\n",
    "\n",
    "        self.layer2 = nn.Sequential(\n",
    "            nn.Conv2d(6, 16, kernel_size=5, stride=1, padding=0),\n",
    "            nn.BatchNorm2d(16),\n",
    "            nn.ReLU(),\n",
    "            nn.MaxPool2d(kernel_size=2, stride=2)\n",
    "        )\n",
    "\n",
    "        self.fc = nn.Linear(400, 120)\n",
    "        self.relu = nn.ReLU()\n",
    "        self.fc1 = nn.Linear(120, 84)\n",
    "        self.relu1 = nn.ReLU()\n",
    "        self.fc2 = nn.Linear(84, num_classes)\n",
    "\n",
    "    def forward(self, x):\n",
    "        out = self.layer1(x)\n",
    "        out = self.layer2(out)\n",
    "        out = out.reshape(out.size(0), -1)\n",
    "        out = self.fc(out)\n",
    "        out = self.relu(out)\n",
    "        out = self.fc1(out)\n",
    "        out = self.relu1(out)\n",
    "        out = self.fc2(out)\n",
    "        return out\n"
   ]
  },
  {
   "cell_type": "code",
   "execution_count": 11,
   "metadata": {},
   "outputs": [],
   "source": [
    "model = LeNet5(num_classes=num_classes).to(device)\n",
    "\n",
    "# setting the loss function \n",
    "\n",
    "cost = nn.CrossEntropyLoss()\n",
    "\n",
    "optimizer = torch.optim.Adam(model.parameters(), lr = learning_rate)\n",
    "\n",
    "total_step = len(train_loader)"
   ]
  },
  {
   "cell_type": "code",
   "execution_count": 12,
   "metadata": {},
   "outputs": [
    {
     "name": "stdout",
     "output_type": "stream",
     "text": [
      "Epoch [1/10], step [400/938], Loss: 0.1759\n",
      "Epoch [1/10], step [800/938], Loss: 0.1364\n",
      "Epoch [2/10], step [400/938], Loss: 0.0725\n",
      "Epoch [2/10], step [800/938], Loss: 0.0142\n",
      "Epoch [3/10], step [400/938], Loss: 0.0226\n",
      "Epoch [3/10], step [800/938], Loss: 0.0036\n",
      "Epoch [4/10], step [400/938], Loss: 0.0931\n",
      "Epoch [4/10], step [800/938], Loss: 0.0070\n",
      "Epoch [5/10], step [400/938], Loss: 0.0250\n",
      "Epoch [5/10], step [800/938], Loss: 0.0248\n",
      "Epoch [6/10], step [400/938], Loss: 0.0074\n",
      "Epoch [6/10], step [800/938], Loss: 0.0928\n",
      "Epoch [7/10], step [400/938], Loss: 0.0149\n",
      "Epoch [7/10], step [800/938], Loss: 0.0019\n",
      "Epoch [8/10], step [400/938], Loss: 0.0094\n",
      "Epoch [8/10], step [800/938], Loss: 0.0042\n",
      "Epoch [9/10], step [400/938], Loss: 0.0486\n",
      "Epoch [9/10], step [800/938], Loss: 0.0065\n",
      "Epoch [10/10], step [400/938], Loss: 0.0225\n",
      "Epoch [10/10], step [800/938], Loss: 0.0009\n"
     ]
    }
   ],
   "source": [
    "total_step = len(train_loader)\n",
    "for epoch in range(num_epochs):\n",
    "    for i, (images, labels) in enumerate(train_loader):\n",
    "        images.to(device)\n",
    "        labels.to(device)\n",
    "\n",
    "        # forward pass \n",
    "        outputs = model(images)\n",
    "        loss = cost(outputs, labels)\n",
    "\n",
    "        # backward pass and optimization \n",
    "        optimizer.zero_grad()\n",
    "        loss.backward()\n",
    "        optimizer.step()\n",
    "\n",
    "        if (i+1) %400 == 0:\n",
    "            print('Epoch [{}/{}], step [{}/{}], Loss: {:.4f}'.format(epoch+1, num_epochs, i+1, total_step, loss.item()))"
   ]
  },
  {
   "cell_type": "code",
   "execution_count": 13,
   "metadata": {},
   "outputs": [
    {
     "name": "stdout",
     "output_type": "stream",
     "text": [
      "Accuracy of this network on 10000 test images is: 99.13%\n"
     ]
    }
   ],
   "source": [
    "# Test the model \n",
    "\n",
    "with torch.no_grad():\n",
    "    correct = 0\n",
    "    total = 0\n",
    "    for images, labels in test_loader:\n",
    "        images = images.to(device)\n",
    "        labels = labels.to(device)\n",
    "\n",
    "        outputs = model(images)\n",
    "        _, predicted = torch.max(outputs.data, 1)\n",
    "        total+=labels.size(0)\n",
    "        correct+= (predicted == labels).sum().item()\n",
    "\n",
    "    print('Accuracy of this network on 10000 test images is: {}%'.format((correct/total)*100))"
   ]
  },
  {
   "cell_type": "code",
   "execution_count": null,
   "metadata": {},
   "outputs": [],
   "source": []
  }
 ],
 "metadata": {
  "kernelspec": {
   "display_name": "omscs",
   "language": "python",
   "name": "python3"
  },
  "language_info": {
   "codemirror_mode": {
    "name": "ipython",
    "version": 3
   },
   "file_extension": ".py",
   "mimetype": "text/x-python",
   "name": "python",
   "nbconvert_exporter": "python",
   "pygments_lexer": "ipython3",
   "version": "3.12.8"
  }
 },
 "nbformat": 4,
 "nbformat_minor": 2
}
